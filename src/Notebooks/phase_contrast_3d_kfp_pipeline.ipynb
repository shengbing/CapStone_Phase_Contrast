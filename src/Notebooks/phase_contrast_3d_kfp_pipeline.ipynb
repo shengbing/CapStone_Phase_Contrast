{
 "cells": [
  {
   "cell_type": "code",
   "execution_count": null,
   "id": "df89b43d-0a5c-4553-9bc6-853365e1701e",
   "metadata": {},
   "outputs": [],
   "source": []
  },
  {
   "cell_type": "code",
   "execution_count": 3,
   "id": "7a8f7a6c-037f-4b86-a6a8-228e43aa76a3",
   "metadata": {},
   "outputs": [],
   "source": [
    "from datetime import datetime\n",
    "\n",
    "from google.cloud import aiplatform\n",
    "import os"
   ]
  },
  {
   "cell_type": "code",
   "execution_count": 4,
   "id": "a93b3d99-823b-41b9-922b-48470960f36f",
   "metadata": {},
   "outputs": [],
   "source": [
    "REGION = \"us-central1\"\n",
    "PROJECT_ID = !(gcloud config get-value project)\n",
    "PROJECT_ID = PROJECT_ID[0]"
   ]
  },
  {
   "cell_type": "code",
   "execution_count": 5,
   "id": "960dba60-235c-4ba7-b948-640f0075e3fd",
   "metadata": {},
   "outputs": [
    {
     "data": {
      "text/plain": [
       "'qwiklabs-asl-04-76d2f9d7a5ae'"
      ]
     },
     "execution_count": 5,
     "metadata": {},
     "output_type": "execute_result"
    }
   ],
   "source": [
    "PROJECT_ID"
   ]
  },
  {
   "cell_type": "code",
   "execution_count": 6,
   "id": "b5b8701b-df35-4d50-8474-2fdc24103bef",
   "metadata": {},
   "outputs": [
    {
     "name": "stdout",
     "output_type": "stream",
     "text": [
      "env: PATH=/home/jupyter/.local/bin:/usr/local/cuda/bin:/opt/conda/bin:/opt/conda/condabin:/usr/local/bin:/usr/bin:/bin:/usr/local/games:/usr/games:/home/jupyter/.local/bin:\n"
     ]
    }
   ],
   "source": [
    "# Set `PATH` to include the directory containing KFP CLI\n",
    "PATH = %env PATH\n",
    "%env PATH=/home/jupyter/.local/bin:{PATH}"
   ]
  },
  {
   "cell_type": "code",
   "execution_count": 7,
   "id": "c7d1a45e-3847-4c1c-ad0f-07c50242d680",
   "metadata": {},
   "outputs": [
    {
     "name": "stdout",
     "output_type": "stream",
     "text": [
      "__pycache__\n",
      "dsl-compile\n",
      "dsl-compile-v2\n",
      "identify-cli\n",
      "jsonschema\n",
      "kfp\n",
      "nodeenv\n",
      "plasma_store\n",
      "portserver.py\n",
      "pre-commit\n",
      "pre-commit-validate-config\n",
      "pre-commit-validate-manifest\n",
      "strip-hints\n",
      "tb-gcp-uploader\n",
      "tfx\n"
     ]
    }
   ],
   "source": [
    "%%bash\n",
    "ls /home/jupyter/.local/bin"
   ]
  },
  {
   "cell_type": "code",
   "execution_count": 8,
   "id": "228c843c-9f0b-4094-9f4e-9586a1fb39ad",
   "metadata": {},
   "outputs": [],
   "source": [
    "import os"
   ]
  },
  {
   "cell_type": "code",
   "execution_count": 9,
   "id": "c5ef28a2-ec4c-45fd-a9dd-44e300e4946d",
   "metadata": {},
   "outputs": [
    {
     "name": "stdout",
     "output_type": "stream",
     "text": [
      "FROM us-docker.pkg.dev/vertex-ai/training/tf-cpu.2-8:latest\n",
      "RUN pip install -U cloudml-hypertune\n",
      "WORKDIR /app\n",
      "COPY * /app/\n",
      "\n",
      "ENTRYPOINT [\"python\", \"task.py\"]"
     ]
    }
   ],
   "source": [
    "%%bash\n",
    "cd /home/jupyter/asl-ml-immersion/notebooks/capstone_project/CapStone_Phase_Contrast/src\n",
    "cat trainer_image_vertex/Dockerfile"
   ]
  },
  {
   "cell_type": "code",
   "execution_count": 10,
   "id": "1cd9f2bc-d7ea-4753-b05b-12bbed1c41cb",
   "metadata": {},
   "outputs": [
    {
     "data": {
      "text/plain": [
       "'gcr.io/qwiklabs-asl-04-76d2f9d7a5ae/trainer_image_ct_phase_contrast_vertex:latest'"
      ]
     },
     "execution_count": 10,
     "metadata": {},
     "output_type": "execute_result"
    }
   ],
   "source": [
    "IMAGE_NAME = \"trainer_image_ct_phase_contrast_vertex\"\n",
    "TAG = \"latest\"\n",
    "TRAINING_CONTAINER_IMAGE_URI = f\"gcr.io/{PROJECT_ID}/{IMAGE_NAME}:{TAG}\"\n",
    "TRAINING_CONTAINER_IMAGE_URI\n"
   ]
  },
  {
   "cell_type": "code",
   "execution_count": 11,
   "id": "83da266b-736c-47b4-9e43-6125098b4bf3",
   "metadata": {},
   "outputs": [],
   "source": [
    "\n",
    "SERVING_CONTAINER_IMAGE_URI=\"us-docker.pkg.dev/vertex-ai/prediction/tf2-cpu.2-8:latest\""
   ]
  },
  {
   "cell_type": "code",
   "execution_count": 12,
   "id": "38245004-3c82-4659-a56e-7eb1c928f222",
   "metadata": {},
   "outputs": [
    {
     "name": "stdout",
     "output_type": "stream",
     "text": [
      "ct_phase_contrast_trainer-0.1.tar.gz\n",
      "ct_phase_contrast_trainer.egg-info\n",
      "phase_contrast_3d-kamrul.ipynb\n",
      "phase_contrast_3d.ipynb\n",
      "phase_contrast_3d_kfp_pipeline.ipynb\n"
     ]
    }
   ],
   "source": [
    "%%bash\n",
    "ls"
   ]
  },
  {
   "cell_type": "code",
   "execution_count": 13,
   "id": "e28597f5-e663-42c9-89a1-f90ea6921498",
   "metadata": {},
   "outputs": [
    {
     "data": {
      "text/plain": [
       "'/home/jupyter/asl-ml-immersion/notebooks/capstone_project/CapStone_Phase_Contrast/src'"
      ]
     },
     "execution_count": 13,
     "metadata": {},
     "output_type": "execute_result"
    }
   ],
   "source": [
    "os.chdir(\"/home/jupyter/asl-ml-immersion/notebooks/capstone_project/CapStone_Phase_Contrast/src/\")\n",
    "os.getcwd()"
   ]
  },
  {
   "cell_type": "code",
   "execution_count": 14,
   "id": "93ff791a-6d5a-4cbe-8609-04c504ffb3c7",
   "metadata": {},
   "outputs": [],
   "source": [
    "# !gcloud builds submit --timeout 15m --tag $TRAINING_CONTAINER_IMAGE_URI trainer_image_vertex"
   ]
  },
  {
   "cell_type": "code",
   "execution_count": 15,
   "id": "ddebf02a-d968-4db0-9653-0ce88f4c6e03",
   "metadata": {},
   "outputs": [],
   "source": [
    "### Compile the pipeline"
   ]
  },
  {
   "cell_type": "code",
   "execution_count": 16,
   "id": "094d3188-092f-4b7c-874f-2c8d78408cdf",
   "metadata": {},
   "outputs": [
    {
     "name": "stdout",
     "output_type": "stream",
     "text": [
      "env: PIPELINE_ROOT=gs://qwiklabs-asl-04-76d2f9d7a5ae-kfp-artifact-store/pipeline\n",
      "env: PROJECT_ID=qwiklabs-asl-04-76d2f9d7a5ae\n",
      "env: REGION=us-central1\n",
      "env: SERVING_CONTAINER_IMAGE_URI=us-docker.pkg.dev/vertex-ai/prediction/tf2-cpu.2-8:latest\n",
      "env: TRAINING_CONTAINER_IMAGE_URI=gcr.io/qwiklabs-asl-04-76d2f9d7a5ae/trainer_image_ct_phase_contrast_vertex:latest\n",
      "env: TRAINING_FILE_PATH=gs://qwiklabs-asl-04-76d2f9d7a5ae-kfp-artifact-store/data/training/dataset.csv\n",
      "env: VALIDATION_FILE_PATH=gs://qwiklabs-asl-04-76d2f9d7a5ae-kfp-artifact-store/data/validation/dataset.csv\n",
      "env: BASE_OUTPUT_DIR=gs://qwiklabs-asl-04-76d2f9d7a5ae-kfp-artifact-store/models/20230330174953\n"
     ]
    }
   ],
   "source": [
    "ARTIFACT_STORE = f\"gs://{PROJECT_ID}-kfp-artifact-store\"\n",
    "PIPELINE_ROOT = f\"{ARTIFACT_STORE}/pipeline\"\n",
    "DATA_ROOT = f\"{ARTIFACT_STORE}/data\"\n",
    "\n",
    "TRAINING_FILE_PATH = f\"{DATA_ROOT}/training/dataset.csv\"\n",
    "VALIDATION_FILE_PATH = f\"{DATA_ROOT}/validation/dataset.csv\"\n",
    "\n",
    "TIMESTAMP = datetime.now().strftime(\"%Y%m%d%H%M%S\")\n",
    "BASE_OUTPUT_DIR = f\"{ARTIFACT_STORE}/models/{TIMESTAMP}\"\n",
    "\n",
    "%env PIPELINE_ROOT={PIPELINE_ROOT}\n",
    "%env PROJECT_ID={PROJECT_ID}\n",
    "%env REGION={REGION}\n",
    "%env SERVING_CONTAINER_IMAGE_URI={SERVING_CONTAINER_IMAGE_URI}\n",
    "%env TRAINING_CONTAINER_IMAGE_URI={TRAINING_CONTAINER_IMAGE_URI}\n",
    "%env TRAINING_FILE_PATH={TRAINING_FILE_PATH}\n",
    "%env VALIDATION_FILE_PATH={VALIDATION_FILE_PATH}\n",
    "%env BASE_OUTPUT_DIR={BASE_OUTPUT_DIR}"
   ]
  },
  {
   "cell_type": "markdown",
   "id": "8f539cc3-15b7-4de6-98a1-d784bad42912",
   "metadata": {},
   "source": [
    "Let us make sure that the `ARTIFACT_STORE` has been created, and let us create it if not:"
   ]
  },
  {
   "cell_type": "code",
   "execution_count": 17,
   "id": "88565388-e96e-4916-a9f0-38ab42433ccc",
   "metadata": {},
   "outputs": [
    {
     "name": "stdout",
     "output_type": "stream",
     "text": [
      "gs://qwiklabs-asl-04-76d2f9d7a5ae-kfp-artifact-store/\n"
     ]
    }
   ],
   "source": [
    "!gsutil ls | grep ^{ARTIFACT_STORE}/$ || gsutil mb -l {REGION} {ARTIFACT_STORE}"
   ]
  },
  {
   "cell_type": "markdown",
   "id": "1297d159-50af-494d-bcb2-a707c98374be",
   "metadata": {},
   "source": [
    "#### Use the CLI compiler to compile the pipeline"
   ]
  },
  {
   "cell_type": "code",
   "execution_count": 24,
   "id": "22b9ca9c-8322-4dcf-af68-b1f2c78f4eb3",
   "metadata": {},
   "outputs": [],
   "source": [
    "PIPELINE_JSON = \"ct_phase_contrast_kfp_pipeline.json\""
   ]
  },
  {
   "cell_type": "code",
   "execution_count": 25,
   "id": "1872de4b-d745-4504-a5df-2ad4a9796b88",
   "metadata": {},
   "outputs": [
    {
     "name": "stdout",
     "output_type": "stream",
     "text": [
      "# Copyright 2021 Google LLC\n",
      "\n",
      "# Licensed under the Apache License, Version 2.0 (the \"License\"); you may not\n",
      "# use this file except in compliance with the License. You may obtain a copy of\n",
      "# the License at\n",
      "\n",
      "# https://www.apache.org/licenses/LICENSE-2.0\n",
      "\n",
      "# Unless required by applicable law or agreed to in writing, software\n",
      "# distributed under the License is distributed on an \"AS IS\"\n",
      "# BASIS, WITHOUT WARRANTIES OR CONDITIONS OF ANY KIND, either\n",
      "# express or implied. See the License for the specific language governing\n",
      "# permissions and limitations under the License.\n",
      "\"\"\"Kubeflow Covertype Pipeline.\"\"\"\n",
      "import os\n",
      "\n",
      "from google.cloud.aiplatform import hyperparameter_tuning as hpt\n",
      "from google_cloud_pipeline_components.aiplatform import (\n",
      "    EndpointCreateOp,\n",
      "    ModelDeployOp,\n",
      "    ModelUploadOp,\n",
      ")\n",
      "from google_cloud_pipeline_components.experimental import (\n",
      "    hyperparameter_tuning_job,\n",
      ")\n",
      "from google_cloud_pipeline_components.experimental.custom_job import (\n",
      "    CustomTrainingJobOp,\n",
      ")\n",
      "from kfp.v2 import dsl\n",
      "\n",
      "PIPELINE_ROOT = os.getenv(\"PIPELINE_ROOT\")\n",
      "PROJECT_ID = os.getenv(\"PROJECT_ID\")\n",
      "REGION = os.getenv(\"REGION\")\n",
      "\n",
      "TRAINING_CONTAINER_IMAGE_URI = os.getenv(\"TRAINING_CONTAINER_IMAGE_URI\")\n",
      "SERVING_CONTAINER_IMAGE_URI = os.getenv(\"SERVING_CONTAINER_IMAGE_URI\")\n",
      "SERVING_MACHINE_TYPE = os.getenv(\"SERVING_MACHINE_TYPE\", \"n1-standard-16\")\n",
      "\n",
      "TRAINING_FILE_PATH = os.getenv(\"TRAINING_FILE_PATH\")\n",
      "VALIDATION_FILE_PATH = os.getenv(\"VALIDATION_FILE_PATH\")\n",
      "\n",
      "MAX_TRIAL_COUNT = int(os.getenv(\"MAX_TRIAL_COUNT\", \"5\"))\n",
      "PARALLEL_TRIAL_COUNT = int(os.getenv(\"PARALLEL_TRIAL_COUNT\", \"5\"))\n",
      "THRESHOLD = float(os.getenv(\"THRESHOLD\", \"0.6\"))\n",
      "\n",
      "PIPELINE_NAME = os.getenv(\"PIPELINE_NAME\", \"ct-phase-contrast\")\n",
      "BASE_OUTPUT_DIR = os.getenv(\"BASE_OUTPUT_DIR\", PIPELINE_ROOT)\n",
      "MODEL_DISPLAY_NAME = os.getenv(\"MODEL_DISPLAY_NAME\", PIPELINE_NAME)\n",
      "\n",
      "\n",
      "@dsl.pipeline(\n",
      "    name=f\"{PIPELINE_NAME}-kfp-pipeline\",\n",
      "    description=\"Kubeflow pipeline that tunes, trains, and deploys on Vertex\",\n",
      "    pipeline_root=PIPELINE_ROOT,\n",
      ")\n",
      "def create_pipeline():\n",
      "\n",
      "    worker_pool_specs = [\n",
      "        {\n",
      "            \"machine_spec\": {\n",
      "                \"machine_type\": \"n1-highmem-16\",\n",
      "                \"accelerator_type\": \"NVIDIA_TESLA_P100\",\n",
      "                \"accelerator_count\": 2,\n",
      "            },\n",
      "            \"replica_count\": 1,\n",
      "            \"container_spec\": {\n",
      "                \"image_uri\": TRAINING_CONTAINER_IMAGE_URI,\n",
      "                \"args\": [\n",
      "                    f\"--train_data_path={TRAINING_FILE_PATH}\",\n",
      "                    f\"--eval_data_path={VALIDATION_FILE_PATH}\",\n",
      "                    f\"--output_dir={BASE_OUTPUT_DIR}\",\n",
      "                    \"--hptune\",\n",
      "                ],\n",
      "            },\n",
      "        }\n",
      "    ]\n",
      "\n",
      "    metric_spec = hyperparameter_tuning_job.serialize_metrics(\n",
      "        {\"val_accuracy\": \"maximize\"}\n",
      "    )\n",
      "\n",
      "    parameter_spec = hyperparameter_tuning_job.serialize_parameters(\n",
      "        {\n",
      "            \"dropout_rate\": hpt.DoubleParameterSpec(\n",
      "                min=1.0e-3, max=4.0e-1, scale=\"log\"\n",
      "            ),\n",
      "            \"max_iter\": hpt.DoubleParameterSpec(\n",
      "                min=1.0e-3, max=4.0e-1, scale=\"log\"\n",
      "            ),\n",
      "        }\n",
      "    )\n",
      "\n",
      "    hp_tuning_task = hyperparameter_tuning_job.HyperparameterTuningJobRunOp(\n",
      "        display_name=f\"{PIPELINE_NAME}-kfp-tuning-job\",\n",
      "        project=PROJECT_ID,\n",
      "        location=REGION,\n",
      "        worker_pool_specs=worker_pool_specs,\n",
      "        study_spec_metrics=metric_spec,\n",
      "        study_spec_parameters=parameter_spec,\n",
      "        max_trial_count=MAX_TRIAL_COUNT,\n",
      "        parallel_trial_count=PARALLEL_TRIAL_COUNT,\n",
      "        base_output_directory=PIPELINE_ROOT,\n",
      "    )\n",
      "\n",
      "    trials_task = hyperparameter_tuning_job.GetTrialsOp(\n",
      "        gcp_resources=hp_tuning_task.outputs[\"gcp_resources\"]\n",
      "    )\n",
      "\n",
      "    best_hyperparameters_task = (\n",
      "        hyperparameter_tuning_job.GetBestHyperparametersOp(\n",
      "            trials=trials_task.output, study_spec_metrics=metric_spec\n",
      "        )\n",
      "    )\n",
      "\n",
      "    # Construct new worker_pool_specs and\n",
      "    # train new model based on best hyperparameters\n",
      "    worker_pool_specs_task = hyperparameter_tuning_job.GetWorkerPoolSpecsOp(\n",
      "        best_hyperparameters=best_hyperparameters_task.output,\n",
      "        worker_pool_specs=[\n",
      "            {\n",
      "                \"machine_spec\": {\"machine_type\": \"n1-highmem-16\",\n",
      "                                 \"accelerator_type\": \"NVIDIA_TESLA_P100\",\n",
      "                                 \"accelerator_count\": 2},\n",
      "                \"replica_count\": 1,\n",
      "                \"container_spec\": {\n",
      "                    \"image_uri\": TRAINING_CONTAINER_IMAGE_URI,\n",
      "                    \"args\": [\n",
      "                        f\"--train_data_path={TRAINING_FILE_PATH}\",\n",
      "                        f\"--eval_data_path={VALIDATION_FILE_PATH}\",\n",
      "                        f\"--output_dir={BASE_OUTPUT_DIR}\",\n",
      "                        \"--nohptune\",\n",
      "                    ],\n",
      "                },\n",
      "            }\n",
      "        ],\n",
      "    )\n",
      "\n",
      "    training_task = CustomTrainingJobOp(\n",
      "        project=PROJECT_ID,\n",
      "        location=REGION,\n",
      "        display_name=f\"{PIPELINE_NAME}-kfp-training-job\",\n",
      "        worker_pool_specs=worker_pool_specs_task.output,\n",
      "        base_output_directory=BASE_OUTPUT_DIR,\n",
      "    )\n",
      "\n",
      "    model_upload_task = ModelUploadOp(\n",
      "        project=PROJECT_ID,\n",
      "        display_name=f\"{PIPELINE_NAME}-kfp-model-upload-job\",\n",
      "        artifact_uri=f\"{BASE_OUTPUT_DIR}/model\",\n",
      "        serving_container_image_uri=SERVING_CONTAINER_IMAGE_URI,\n",
      "    )\n",
      "    model_upload_task.after(training_task)\n",
      "\n",
      "    endpoint_create_task = EndpointCreateOp(\n",
      "        project=PROJECT_ID,\n",
      "        display_name=f\"{PIPELINE_NAME}-kfp-create-endpoint-job\",\n",
      "    )\n",
      "    endpoint_create_task.after(model_upload_task)\n",
      "\n",
      "    model_deploy_op = ModelDeployOp(  # pylint: disable=unused-variable\n",
      "        model=model_upload_task.outputs[\"model\"],\n",
      "        endpoint=endpoint_create_task.outputs[\"endpoint\"],\n",
      "        deployed_model_display_name=MODEL_DISPLAY_NAME,\n",
      "        dedicated_resources_machine_type=SERVING_MACHINE_TYPE,\n",
      "        dedicated_resources_min_replica_count=1,\n",
      "        dedicated_resources_max_replica_count=1,\n",
      "    )\n"
     ]
    }
   ],
   "source": [
    "!cat pipeline_vertex/pipeline_prebuilt.py"
   ]
  },
  {
   "cell_type": "code",
   "execution_count": 26,
   "id": "28128ec5-fc4d-404e-a493-11409cf188d8",
   "metadata": {},
   "outputs": [
    {
     "name": "stdout",
     "output_type": "stream",
     "text": [
      "/home/jupyter/.local/lib/python3.7/site-packages/kfp/v2/compiler/compiler.py:1293: FutureWarning: APIs imported from the v1 namespace (e.g. kfp.dsl, kfp.components, etc) will not be supported by the v2 compiler since v2.0.0\n",
      "  category=FutureWarning,\n"
     ]
    }
   ],
   "source": [
    "!dsl-compile-v2 --py pipeline_vertex/pipeline_prebuilt.py --output $PIPELINE_JSON"
   ]
  },
  {
   "cell_type": "markdown",
   "id": "36848a6a-a20c-4611-9460-857dbd649fc3",
   "metadata": {},
   "source": [
    "**Note:** You can also use the Python SDK to compile the pipeline:\n",
    "\n",
    "```python\n",
    "from kfp.v2 import compiler\n",
    "\n",
    "compiler.Compiler().compile(\n",
    "    pipeline_func=create_pipeline, \n",
    "    package_path=PIPELINE_JSON,\n",
    ")\n",
    "\n",
    "```"
   ]
  },
  {
   "cell_type": "code",
   "execution_count": 27,
   "id": "e5818711-6a27-40a3-8d2a-59b561e984ee",
   "metadata": {},
   "outputs": [
    {
     "name": "stdout",
     "output_type": "stream",
     "text": [
      "{\n",
      "  \"pipelineSpec\": {\n",
      "    \"components\": {\n",
      "      \"comp-custom-training-job\": {\n",
      "        \"executorLabel\": \"exec-custom-training-job\",\n",
      "        \"inputDefinitions\": {\n",
      "          \"parameters\": {\n",
      "            \"base_output_directory\": {\n",
      "              \"type\": \"STRING\"\n",
      "            },\n"
     ]
    }
   ],
   "source": [
    "!head {PIPELINE_JSON}"
   ]
  },
  {
   "cell_type": "markdown",
   "id": "4158eca6-9bab-4ff4-b959-39674d54820c",
   "metadata": {},
   "source": [
    "### Deploy the pipeline package"
   ]
  },
  {
   "cell_type": "code",
   "execution_count": 28,
   "id": "80af2fc7-c2a6-4e5b-b516-856e29085b5a",
   "metadata": {},
   "outputs": [
    {
     "name": "stdout",
     "output_type": "stream",
     "text": [
      "Creating PipelineJob\n",
      "PipelineJob created. Resource name: projects/146339387885/locations/us-central1/pipelineJobs/ct-phase-contrast-kfp-pipeline-20230330183056\n",
      "To use this PipelineJob in another session:\n",
      "pipeline_job = aiplatform.PipelineJob.get('projects/146339387885/locations/us-central1/pipelineJobs/ct-phase-contrast-kfp-pipeline-20230330183056')\n",
      "View Pipeline Job:\n",
      "https://console.cloud.google.com/vertex-ai/locations/us-central1/pipelines/runs/ct-phase-contrast-kfp-pipeline-20230330183056?project=146339387885\n",
      "PipelineJob projects/146339387885/locations/us-central1/pipelineJobs/ct-phase-contrast-kfp-pipeline-20230330183056 current state:\n",
      "PipelineState.PIPELINE_STATE_RUNNING\n",
      "PipelineJob projects/146339387885/locations/us-central1/pipelineJobs/ct-phase-contrast-kfp-pipeline-20230330183056 current state:\n",
      "PipelineState.PIPELINE_STATE_RUNNING\n",
      "PipelineJob projects/146339387885/locations/us-central1/pipelineJobs/ct-phase-contrast-kfp-pipeline-20230330183056 current state:\n",
      "PipelineState.PIPELINE_STATE_RUNNING\n",
      "PipelineJob projects/146339387885/locations/us-central1/pipelineJobs/ct-phase-contrast-kfp-pipeline-20230330183056 current state:\n",
      "PipelineState.PIPELINE_STATE_RUNNING\n",
      "PipelineJob projects/146339387885/locations/us-central1/pipelineJobs/ct-phase-contrast-kfp-pipeline-20230330183056 current state:\n",
      "PipelineState.PIPELINE_STATE_RUNNING\n",
      "PipelineJob projects/146339387885/locations/us-central1/pipelineJobs/ct-phase-contrast-kfp-pipeline-20230330183056 current state:\n",
      "PipelineState.PIPELINE_STATE_RUNNING\n"
     ]
    },
    {
     "ename": "RuntimeError",
     "evalue": "Job failed with:\ncode: 9\nmessage: \"The DAG failed because some tasks failed. The failed tasks are: [hyperparameter-tuning-job].; Job (project_id = qwiklabs-asl-04-76d2f9d7a5ae, job_id = 730212610040922112) is failed due to the above error.; Failed to handle the job: {project_number = 146339387885, job_id = 730212610040922112}\"\n",
     "output_type": "error",
     "traceback": [
      "\u001b[0;31m---------------------------------------------------------------------------\u001b[0m",
      "\u001b[0;31mRuntimeError\u001b[0m                              Traceback (most recent call last)",
      "\u001b[0;32m/var/tmp/ipykernel_21758/2378786189.py\u001b[0m in \u001b[0;36m<module>\u001b[0;34m\u001b[0m\n\u001b[1;32m      7\u001b[0m )\n\u001b[1;32m      8\u001b[0m \u001b[0;34m\u001b[0m\u001b[0m\n\u001b[0;32m----> 9\u001b[0;31m \u001b[0mpipeline\u001b[0m\u001b[0;34m.\u001b[0m\u001b[0mrun\u001b[0m\u001b[0;34m(\u001b[0m\u001b[0;34m)\u001b[0m\u001b[0;34m\u001b[0m\u001b[0;34m\u001b[0m\u001b[0m\n\u001b[0m",
      "\u001b[0;32m~/.local/lib/python3.7/site-packages/google/cloud/aiplatform/pipeline_jobs.py\u001b[0m in \u001b[0;36mrun\u001b[0;34m(self, service_account, network, sync, create_request_timeout)\u001b[0m\n\u001b[1;32m    316\u001b[0m             \u001b[0mnetwork\u001b[0m\u001b[0;34m=\u001b[0m\u001b[0mnetwork\u001b[0m\u001b[0;34m,\u001b[0m\u001b[0;34m\u001b[0m\u001b[0;34m\u001b[0m\u001b[0m\n\u001b[1;32m    317\u001b[0m             \u001b[0msync\u001b[0m\u001b[0;34m=\u001b[0m\u001b[0msync\u001b[0m\u001b[0;34m,\u001b[0m\u001b[0;34m\u001b[0m\u001b[0;34m\u001b[0m\u001b[0m\n\u001b[0;32m--> 318\u001b[0;31m             \u001b[0mcreate_request_timeout\u001b[0m\u001b[0;34m=\u001b[0m\u001b[0mcreate_request_timeout\u001b[0m\u001b[0;34m,\u001b[0m\u001b[0;34m\u001b[0m\u001b[0;34m\u001b[0m\u001b[0m\n\u001b[0m\u001b[1;32m    319\u001b[0m         )\n\u001b[1;32m    320\u001b[0m \u001b[0;34m\u001b[0m\u001b[0m\n",
      "\u001b[0;32m~/.local/lib/python3.7/site-packages/google/cloud/aiplatform/base.py\u001b[0m in \u001b[0;36mwrapper\u001b[0;34m(*args, **kwargs)\u001b[0m\n\u001b[1;32m    808\u001b[0m                 \u001b[0;32mif\u001b[0m \u001b[0mself\u001b[0m\u001b[0;34m:\u001b[0m\u001b[0;34m\u001b[0m\u001b[0;34m\u001b[0m\u001b[0m\n\u001b[1;32m    809\u001b[0m                     \u001b[0mVertexAiResourceNounWithFutureManager\u001b[0m\u001b[0;34m.\u001b[0m\u001b[0mwait\u001b[0m\u001b[0;34m(\u001b[0m\u001b[0mself\u001b[0m\u001b[0;34m)\u001b[0m\u001b[0;34m\u001b[0m\u001b[0;34m\u001b[0m\u001b[0m\n\u001b[0;32m--> 810\u001b[0;31m                 \u001b[0;32mreturn\u001b[0m \u001b[0mmethod\u001b[0m\u001b[0;34m(\u001b[0m\u001b[0;34m*\u001b[0m\u001b[0margs\u001b[0m\u001b[0;34m,\u001b[0m \u001b[0;34m**\u001b[0m\u001b[0mkwargs\u001b[0m\u001b[0;34m)\u001b[0m\u001b[0;34m\u001b[0m\u001b[0;34m\u001b[0m\u001b[0m\n\u001b[0m\u001b[1;32m    811\u001b[0m \u001b[0;34m\u001b[0m\u001b[0m\n\u001b[1;32m    812\u001b[0m             \u001b[0;31m# callbacks to call within the Future (in same Thread)\u001b[0m\u001b[0;34m\u001b[0m\u001b[0;34m\u001b[0m\u001b[0;34m\u001b[0m\u001b[0m\n",
      "\u001b[0;32m~/.local/lib/python3.7/site-packages/google/cloud/aiplatform/pipeline_jobs.py\u001b[0m in \u001b[0;36m_run\u001b[0;34m(self, service_account, network, sync, create_request_timeout)\u001b[0m\n\u001b[1;32m    349\u001b[0m         )\n\u001b[1;32m    350\u001b[0m \u001b[0;34m\u001b[0m\u001b[0m\n\u001b[0;32m--> 351\u001b[0;31m         \u001b[0mself\u001b[0m\u001b[0;34m.\u001b[0m\u001b[0m_block_until_complete\u001b[0m\u001b[0;34m(\u001b[0m\u001b[0;34m)\u001b[0m\u001b[0;34m\u001b[0m\u001b[0;34m\u001b[0m\u001b[0m\n\u001b[0m\u001b[1;32m    352\u001b[0m \u001b[0;34m\u001b[0m\u001b[0m\n\u001b[1;32m    353\u001b[0m     def submit(\n",
      "\u001b[0;32m~/.local/lib/python3.7/site-packages/google/cloud/aiplatform/pipeline_jobs.py\u001b[0m in \u001b[0;36m_block_until_complete\u001b[0;34m(self)\u001b[0m\n\u001b[1;32m    497\u001b[0m         \u001b[0;31m# JOB_STATE_FAILED or JOB_STATE_CANCELLED.\u001b[0m\u001b[0;34m\u001b[0m\u001b[0;34m\u001b[0m\u001b[0;34m\u001b[0m\u001b[0m\n\u001b[1;32m    498\u001b[0m         \u001b[0;32mif\u001b[0m \u001b[0mself\u001b[0m\u001b[0;34m.\u001b[0m\u001b[0m_gca_resource\u001b[0m\u001b[0;34m.\u001b[0m\u001b[0mstate\u001b[0m \u001b[0;32min\u001b[0m \u001b[0m_PIPELINE_ERROR_STATES\u001b[0m\u001b[0;34m:\u001b[0m\u001b[0;34m\u001b[0m\u001b[0;34m\u001b[0m\u001b[0m\n\u001b[0;32m--> 499\u001b[0;31m             \u001b[0;32mraise\u001b[0m \u001b[0mRuntimeError\u001b[0m\u001b[0;34m(\u001b[0m\u001b[0;34m\"Job failed with:\\n%s\"\u001b[0m \u001b[0;34m%\u001b[0m \u001b[0mself\u001b[0m\u001b[0;34m.\u001b[0m\u001b[0m_gca_resource\u001b[0m\u001b[0;34m.\u001b[0m\u001b[0merror\u001b[0m\u001b[0;34m)\u001b[0m\u001b[0;34m\u001b[0m\u001b[0;34m\u001b[0m\u001b[0m\n\u001b[0m\u001b[1;32m    500\u001b[0m         \u001b[0;32melse\u001b[0m\u001b[0;34m:\u001b[0m\u001b[0;34m\u001b[0m\u001b[0;34m\u001b[0m\u001b[0m\n\u001b[1;32m    501\u001b[0m             \u001b[0m_LOGGER\u001b[0m\u001b[0;34m.\u001b[0m\u001b[0mlog_action_completed_against_resource\u001b[0m\u001b[0;34m(\u001b[0m\u001b[0;34m\"run\"\u001b[0m\u001b[0;34m,\u001b[0m \u001b[0;34m\"completed\"\u001b[0m\u001b[0;34m,\u001b[0m \u001b[0mself\u001b[0m\u001b[0;34m)\u001b[0m\u001b[0;34m\u001b[0m\u001b[0;34m\u001b[0m\u001b[0m\n",
      "\u001b[0;31mRuntimeError\u001b[0m: Job failed with:\ncode: 9\nmessage: \"The DAG failed because some tasks failed. The failed tasks are: [hyperparameter-tuning-job].; Job (project_id = qwiklabs-asl-04-76d2f9d7a5ae, job_id = 730212610040922112) is failed due to the above error.; Failed to handle the job: {project_number = 146339387885, job_id = 730212610040922112}\"\n"
     ]
    }
   ],
   "source": [
    "aiplatform.init(project=PROJECT_ID, location=REGION)\n",
    "\n",
    "pipeline = aiplatform.PipelineJob(\n",
    "    display_name=\"ct_phase_contrast_kfp_pipeline\",\n",
    "    template_path=PIPELINE_JSON,\n",
    "    enable_caching=True,\n",
    ")\n",
    "\n",
    "pipeline.run()"
   ]
  },
  {
   "cell_type": "code",
   "execution_count": null,
   "id": "edcd2b46-5bb0-4a0f-8558-e1f8c1773a29",
   "metadata": {},
   "outputs": [],
   "source": []
  }
 ],
 "metadata": {
  "environment": {
   "kernel": "python3",
   "name": "tf2-gpu.2-8.m104",
   "type": "gcloud",
   "uri": "gcr.io/deeplearning-platform-release/tf2-gpu.2-8:m104"
  },
  "kernelspec": {
   "display_name": "Python 3 (ipykernel)",
   "language": "python",
   "name": "python3"
  },
  "language_info": {
   "codemirror_mode": {
    "name": "ipython",
    "version": 3
   },
   "file_extension": ".py",
   "mimetype": "text/x-python",
   "name": "python",
   "nbconvert_exporter": "python",
   "pygments_lexer": "ipython3",
   "version": "3.7.12"
  }
 },
 "nbformat": 4,
 "nbformat_minor": 5
}
